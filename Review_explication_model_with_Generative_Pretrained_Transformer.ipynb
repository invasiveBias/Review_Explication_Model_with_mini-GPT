{
  "cells": [
    {
      "cell_type": "code",
      "execution_count": null,
      "metadata": {
        "id": "d5f9b5dc"
      },
      "outputs": [],
      "source": [
        "# import data analysis libraries\n",
        "import pandas as pd, numpy as np,random"
      ],
      "id": "d5f9b5dc"
    },
    {
      "cell_type": "code",
      "execution_count": null,
      "metadata": {
        "colab": {
          "base_uri": "https://localhost:8080/"
        },
        "id": "Qc-V-Ki4_gZs",
        "outputId": "d45337c6-f92d-47c9-f970-65befe84c442"
      },
      "outputs": [
        {
          "name": "stdout",
          "output_type": "stream",
          "text": [
            "Mounted at /content/drive\n"
          ]
        }
      ],
      "source": [
        "# mount drive in collab\n",
        "from google.colab import drive\n",
        "drive.mount('/content/drive')"
      ],
      "id": "Qc-V-Ki4_gZs"
    },
    {
      "cell_type": "code",
      "execution_count": null,
      "metadata": {
        "colab": {
          "base_uri": "https://localhost:8080/",
          "height": 371
        },
        "id": "f1a81156",
        "outputId": "291e6c4b-7dd8-497f-90d7-dafc2b9bddef"
      },
      "outputs": [
        {
          "data": {
            "text/html": [
              "\n",
              "  <div id=\"df-f0bf0cf4-1d32-4e7b-ada3-ca476e597a49\">\n",
              "    <div class=\"colab-df-container\">\n",
              "      <div>\n",
              "<style scoped>\n",
              "    .dataframe tbody tr th:only-of-type {\n",
              "        vertical-align: middle;\n",
              "    }\n",
              "\n",
              "    .dataframe tbody tr th {\n",
              "        vertical-align: top;\n",
              "    }\n",
              "\n",
              "    .dataframe thead th {\n",
              "        text-align: right;\n",
              "    }\n",
              "</style>\n",
              "<table border=\"1\" class=\"dataframe\">\n",
              "  <thead>\n",
              "    <tr style=\"text-align: right;\">\n",
              "      <th></th>\n",
              "      <th>text</th>\n",
              "      <th>overall</th>\n",
              "    </tr>\n",
              "  </thead>\n",
              "  <tbody>\n",
              "    <tr>\n",
              "      <th>17593</th>\n",
              "      <td>feeling like ish!</td>\n",
              "      <td>0</td>\n",
              "    </tr>\n",
              "    <tr>\n",
              "      <th>179614</th>\n",
              "      <td>Low Quality [Control], I have purchased two of...</td>\n",
              "      <td>0</td>\n",
              "    </tr>\n",
              "    <tr>\n",
              "      <th>250120</th>\n",
              "      <td>Good \"store bought\" cookies, I really like the...</td>\n",
              "      <td>1</td>\n",
              "    </tr>\n",
              "    <tr>\n",
              "      <th>488914</th>\n",
              "      <td>Disgusting aftertaste!, I tried this yesterday...</td>\n",
              "      <td>0</td>\n",
              "    </tr>\n",
              "    <tr>\n",
              "      <th>857427</th>\n",
              "      <td>Never actually did anything, I bought it, it c...</td>\n",
              "      <td>0</td>\n",
              "    </tr>\n",
              "  </tbody>\n",
              "</table>\n",
              "</div>\n",
              "      <button class=\"colab-df-convert\" onclick=\"convertToInteractive('df-f0bf0cf4-1d32-4e7b-ada3-ca476e597a49')\"\n",
              "              title=\"Convert this dataframe to an interactive table.\"\n",
              "              style=\"display:none;\">\n",
              "        \n",
              "  <svg xmlns=\"http://www.w3.org/2000/svg\" height=\"24px\"viewBox=\"0 0 24 24\"\n",
              "       width=\"24px\">\n",
              "    <path d=\"M0 0h24v24H0V0z\" fill=\"none\"/>\n",
              "    <path d=\"M18.56 5.44l.94 2.06.94-2.06 2.06-.94-2.06-.94-.94-2.06-.94 2.06-2.06.94zm-11 1L8.5 8.5l.94-2.06 2.06-.94-2.06-.94L8.5 2.5l-.94 2.06-2.06.94zm10 10l.94 2.06.94-2.06 2.06-.94-2.06-.94-.94-2.06-.94 2.06-2.06.94z\"/><path d=\"M17.41 7.96l-1.37-1.37c-.4-.4-.92-.59-1.43-.59-.52 0-1.04.2-1.43.59L10.3 9.45l-7.72 7.72c-.78.78-.78 2.05 0 2.83L4 21.41c.39.39.9.59 1.41.59.51 0 1.02-.2 1.41-.59l7.78-7.78 2.81-2.81c.8-.78.8-2.07 0-2.86zM5.41 20L4 18.59l7.72-7.72 1.47 1.35L5.41 20z\"/>\n",
              "  </svg>\n",
              "      </button>\n",
              "      \n",
              "  <style>\n",
              "    .colab-df-container {\n",
              "      display:flex;\n",
              "      flex-wrap:wrap;\n",
              "      gap: 12px;\n",
              "    }\n",
              "\n",
              "    .colab-df-convert {\n",
              "      background-color: #E8F0FE;\n",
              "      border: none;\n",
              "      border-radius: 50%;\n",
              "      cursor: pointer;\n",
              "      display: none;\n",
              "      fill: #1967D2;\n",
              "      height: 32px;\n",
              "      padding: 0 0 0 0;\n",
              "      width: 32px;\n",
              "    }\n",
              "\n",
              "    .colab-df-convert:hover {\n",
              "      background-color: #E2EBFA;\n",
              "      box-shadow: 0px 1px 2px rgba(60, 64, 67, 0.3), 0px 1px 3px 1px rgba(60, 64, 67, 0.15);\n",
              "      fill: #174EA6;\n",
              "    }\n",
              "\n",
              "    [theme=dark] .colab-df-convert {\n",
              "      background-color: #3B4455;\n",
              "      fill: #D2E3FC;\n",
              "    }\n",
              "\n",
              "    [theme=dark] .colab-df-convert:hover {\n",
              "      background-color: #434B5C;\n",
              "      box-shadow: 0px 1px 3px 1px rgba(0, 0, 0, 0.15);\n",
              "      filter: drop-shadow(0px 1px 2px rgba(0, 0, 0, 0.3));\n",
              "      fill: #FFFFFF;\n",
              "    }\n",
              "  </style>\n",
              "\n",
              "      <script>\n",
              "        const buttonEl =\n",
              "          document.querySelector('#df-f0bf0cf4-1d32-4e7b-ada3-ca476e597a49 button.colab-df-convert');\n",
              "        buttonEl.style.display =\n",
              "          google.colab.kernel.accessAllowed ? 'block' : 'none';\n",
              "\n",
              "        async function convertToInteractive(key) {\n",
              "          const element = document.querySelector('#df-f0bf0cf4-1d32-4e7b-ada3-ca476e597a49');\n",
              "          const dataTable =\n",
              "            await google.colab.kernel.invokeFunction('convertToInteractive',\n",
              "                                                     [key], {});\n",
              "          if (!dataTable) return;\n",
              "\n",
              "          const docLinkHtml = 'Like what you see? Visit the ' +\n",
              "            '<a target=\"_blank\" href=https://colab.research.google.com/notebooks/data_table.ipynb>data table notebook</a>'\n",
              "            + ' to learn more about interactive tables.';\n",
              "          element.innerHTML = '';\n",
              "          dataTable['output_type'] = 'display_data';\n",
              "          await google.colab.output.renderOutput(dataTable, element);\n",
              "          const docLink = document.createElement('div');\n",
              "          docLink.innerHTML = docLinkHtml;\n",
              "          element.appendChild(docLink);\n",
              "        }\n",
              "      </script>\n",
              "    </div>\n",
              "  </div>\n",
              "  "
            ],
            "text/plain": [
              "                                                     text  overall\n",
              "17593                                  feeling like ish!         0\n",
              "179614  Low Quality [Control], I have purchased two of...        0\n",
              "250120  Good \"store bought\" cookies, I really like the...        1\n",
              "488914  Disgusting aftertaste!, I tried this yesterday...        0\n",
              "857427  Never actually did anything, I bought it, it c...        0"
            ]
          },
          "execution_count": 3,
          "metadata": {},
          "output_type": "execute_result"
        }
      ],
      "source": [
        "# load data\n",
        "data = pd.read_csv('drive/MyDrive/Portfolio resources/Sentiment analysis & explication dataset/reviews_for_text_generation.csv',index_col=0)\n",
        "data.dropna(inplace=True)\n",
        "data = data.sample(frac=1)\n",
        "data.head()"
      ],
      "id": "f1a81156"
    },
    {
      "cell_type": "code",
      "execution_count": null,
      "metadata": {
        "colab": {
          "base_uri": "https://localhost:8080/"
        },
        "id": "yuY5TBcnBF9g",
        "outputId": "a3793f29-526c-4742-8ab7-25a8b955dc0f"
      },
      "outputs": [
        {
          "data": {
            "text/plain": [
              "180000"
            ]
          },
          "execution_count": 4,
          "metadata": {},
          "output_type": "execute_result"
        }
      ],
      "source": [
        "len(data)"
      ],
      "id": "yuY5TBcnBF9g"
    },
    {
      "cell_type": "code",
      "execution_count": null,
      "metadata": {
        "id": "XV2qhDjuILew"
      },
      "outputs": [],
      "source": [
        "# text preprocessing step-1 (creating custom standardization function)\n",
        "import tensorflow as tf\n",
        "from keras.layers import TextVectorization\n",
        "import string\n",
        "stg = string.punctuation.replace(\"'\",'')\n",
        "def custom_standardization(input_string):\n",
        "    lowercased = tf.strings.lower(input_string)\n",
        "    stripped_html = tf.strings.regex_replace(lowercased, \"\\n\", \" \")\n",
        "    return tf.strings.regex_replace(stripped_html, f\"([{stg}])\", r\"\")"
      ],
      "id": "XV2qhDjuILew"
    },
    {
      "cell_type": "code",
      "execution_count": null,
      "metadata": {
        "id": "0af6ada8"
      },
      "outputs": [],
      "source": [
        "# text preprocessing step-2 (implementation)\n",
        "vocab_size = 25000\n",
        "maxlen = 100\n",
        "vectorize_layer = TextVectorization(\n",
        "    standardize=custom_standardization,\n",
        "    max_tokens=vocab_size - 1,\n",
        "    output_mode=\"int\",\n",
        "    output_sequence_length=maxlen + 1,\n",
        ")\n",
        "vectorize_layer.adapt(data['text'].values)"
      ],
      "id": "0af6ada8"
    },
    {
      "cell_type": "code",
      "execution_count": null,
      "metadata": {
        "id": "Kyq2Z9lEh5HE"
      },
      "outputs": [],
      "source": [
        "# saving the vectorization weights\n",
        "import pickle\n",
        "pickle.dump({'config': vectorize_layer.get_config(),\n",
        "             'weights': vectorize_layer.get_weights(), }\n",
        "            , open(\"sentence_vectorizer_weights\", \"wb\"))"
      ],
      "id": "Kyq2Z9lEh5HE"
    },
    {
      "cell_type": "code",
      "execution_count": null,
      "metadata": {
        "id": "5b0028ad"
      },
      "outputs": [],
      "source": [
        "# function for restructure the input-review & label-explication sentences\n",
        "def prepare_lm_inputs_labels(text):\n",
        "    #text = tf.expand_dims(text, -1)\n",
        "    tokenized_sentences = new_v(text)\n",
        "    x = tokenized_sentences[:, :-1]\n",
        "    y = tokenized_sentences[:, 1:]\n",
        "    return x, y"
      ],
      "id": "5b0028ad"
    },
    {
      "cell_type": "code",
      "execution_count": null,
      "metadata": {
        "id": "IIlIvAlYCzim"
      },
      "outputs": [],
      "source": [
        "# function to create dataset\n",
        "def create_Ds(x):\n",
        "    batch_size=64\n",
        "    text_ds = tf.data.Dataset.from_tensor_slices(x)\n",
        "    text_ds = text_ds.shuffle(buffer_size=256)\n",
        "    text_ds = text_ds.batch(batch_size)\n",
        "    text_ds = text_ds.map(prepare_lm_inputs_labels)\n",
        "    text_ds = text_ds.prefetch(tf.data.AUTOTUNE)\n",
        "    return text_ds"
      ],
      "id": "IIlIvAlYCzim"
    },
    {
      "cell_type": "code",
      "execution_count": null,
      "metadata": {
        "id": "wluD_gyrDCST"
      },
      "outputs": [],
      "source": [
        "# create training & validation datasets\n",
        "val_ds = create_Ds(data['text'][:18000])\n",
        "train_ds = create_Ds(data['text'][18000:])"
      ],
      "id": "wluD_gyrDCST"
    },
    {
      "cell_type": "code",
      "execution_count": null,
      "metadata": {
        "colab": {
          "base_uri": "https://localhost:8080/"
        },
        "id": "NZH62uKiDWUq",
        "outputId": "22bd3708-83c9-4739-d113-6cfcbb4543f2"
      },
      "outputs": [
        {
          "data": {
            "text/plain": [
              "<PrefetchDataset element_spec=(TensorSpec(shape=(None, 100), dtype=tf.int64, name=None), TensorSpec(shape=(None, 100), dtype=tf.int64, name=None))>"
            ]
          },
          "execution_count": 13,
          "metadata": {},
          "output_type": "execute_result"
        }
      ],
      "source": [
        "train_ds"
      ],
      "id": "NZH62uKiDWUq"
    },
    {
      "cell_type": "code",
      "execution_count": null,
      "metadata": {
        "id": "5b07dd98"
      },
      "outputs": [],
      "source": [
        "# building model step-1 (build tokenizer)\n",
        "import keras\n",
        "from keras import layers\n",
        "class TokenAndPositionEmbedding(layers.Layer):\n",
        "    def __init__(self, maxlen, vocab_size, embed_dim,**kwargs):\n",
        "        super().__init__()\n",
        "        self.token_emb = layers.Embedding(input_dim=vocab_size, output_dim=embed_dim)\n",
        "        self.pos_emb = layers.Embedding(input_dim=maxlen, output_dim=embed_dim)\n",
        "\n",
        "    def call(self, x):\n",
        "        maxlen = tf.shape(x)[-1]\n",
        "        positions = tf.range(start=0, limit=maxlen, delta=1)\n",
        "        positions = self.pos_emb(positions)\n",
        "        x = self.token_emb(x)\n",
        "        return x + positions"
      ],
      "id": "5b07dd98"
    },
    {
      "cell_type": "code",
      "execution_count": null,
      "metadata": {
        "id": "2dc31f78"
      },
      "outputs": [],
      "source": [
        "# building model step-2 (build transformer block)\n",
        "class TransformerBlock(layers.Layer):\n",
        "    def __init__(self, embed_dim, num_heads, ff_dim, rate=0.1,**kwargs):\n",
        "        super().__init__()\n",
        "        self.att = layers.MultiHeadAttention(num_heads, embed_dim)\n",
        "        self.ffn = keras.Sequential(\n",
        "            [layers.Dense(ff_dim, activation=\"relu\"), layers.Dense(embed_dim),]\n",
        "        )\n",
        "        self.layernorm1 = layers.LayerNormalization(epsilon=1e-6)\n",
        "        self.layernorm2 = layers.LayerNormalization(epsilon=1e-6)\n",
        "        self.dropout1 = layers.Dropout(rate)\n",
        "        self.dropout2 = layers.Dropout(rate)\n",
        "\n",
        "    def call(self, inputs):\n",
        "        input_shape = tf.shape(inputs)\n",
        "        batch_size = input_shape[0]\n",
        "        seq_len = input_shape[1]\n",
        "        attention_output = self.att(inputs, inputs, use_causal_mask = True)\n",
        "        attention_output = self.dropout1(attention_output)\n",
        "        out1 = self.layernorm1(inputs + attention_output)\n",
        "        ffn_output = self.ffn(out1)\n",
        "        ffn_output = self.dropout2(ffn_output)\n",
        "        return self.layernorm2(out1 + ffn_output)"
      ],
      "id": "2dc31f78"
    },
    {
      "cell_type": "code",
      "execution_count": null,
      "metadata": {
        "id": "4cf4da1f"
      },
      "outputs": [],
      "source": [
        "# building model step-3 (compile model)\n",
        "\n",
        "embed_dim = 256\n",
        "num_heads = 5\n",
        "feed_forward_dim = 32\n",
        "\n",
        "\n",
        "def create_model():\n",
        "    inputs = layers.Input(shape=(maxlen,), dtype=tf.int32)\n",
        "    embedding_layer = TokenAndPositionEmbedding(maxlen, vocab_size, embed_dim)\n",
        "    x = embedding_layer(inputs)\n",
        "    transformer_block = TransformerBlock(embed_dim, num_heads, feed_forward_dim)\n",
        "    x = transformer_block(x)\n",
        "    outputs = layers.Dense(vocab_size)(x)\n",
        "    model = keras.Model(inputs=inputs, outputs=[outputs, x])\n",
        "    loss_fn = tf.keras.losses.SparseCategoricalCrossentropy(from_logits=True)\n",
        "    model.compile(\n",
        "        \"adam\", loss=[loss_fn, None],\n",
        "    )  # No loss and optimization based on word embeddings from transformer block\n",
        "    return model"
      ],
      "id": "4cf4da1f"
    },
    {
      "cell_type": "code",
      "execution_count": null,
      "metadata": {
        "id": "ce4f911b"
      },
      "outputs": [],
      "source": [
        "# build caallback output generator for each training step\n",
        "vocab = new_v.get_vocabulary()\n",
        "class TextGenerator(keras.callbacks.Callback):\n",
        "    def __init__(\n",
        "        self, max_tokens, start_tokens, index_to_word, top_k=10, print_every=1\n",
        "    ):\n",
        "        self.max_tokens = max_tokens\n",
        "        self.start_tokens = start_tokens\n",
        "        self.index_to_word = index_to_word\n",
        "        self.print_every = print_every\n",
        "        self.k = top_k\n",
        "\n",
        "    def sample_from(self, logits):\n",
        "        logits, indices = tf.math.top_k(logits, k=self.k, sorted=True)\n",
        "        indices = np.asarray(indices).astype(\"int32\")\n",
        "        preds = keras.activations.softmax(tf.expand_dims(logits, 0))[0]\n",
        "        preds = np.asarray(preds).astype(\"float32\")\n",
        "        return np.random.choice(indices, p=preds)\n",
        "\n",
        "    def detokenize(self, number):\n",
        "        return self.index_to_word[number]\n",
        "\n",
        "    def on_epoch_end(self, epoch, logs=None):\n",
        "        start_tokens = [_ for _ in self.start_tokens]\n",
        "        if (epoch + 1) % self.print_every != 0:\n",
        "            return\n",
        "        num_tokens_generated = 0\n",
        "        tokens_generated = []\n",
        "        while num_tokens_generated <= self.max_tokens:\n",
        "            pad_len = maxlen - len(start_tokens)\n",
        "            sample_index = len(start_tokens) - 1\n",
        "            if pad_len < 0:\n",
        "                x = start_tokens[:maxlen]\n",
        "                sample_index = maxlen - 1\n",
        "            elif pad_len > 0:\n",
        "                x = start_tokens + [0] * pad_len\n",
        "            else:\n",
        "                x = start_tokens\n",
        "            x = np.array([x])\n",
        "            y, _ = self.model.predict(x)\n",
        "            sample_token = self.sample_from(y[0][sample_index])\n",
        "            word_token = self.detokenize(sample_token)\n",
        "            tokens_generated.append(sample_token)\n",
        "            start_tokens.append(sample_token)\n",
        "            num_tokens_generated = len(tokens_generated)\n",
        "        txt = \" \".join(\n",
        "            [self.detokenize(_) for _ in self.start_tokens + tokens_generated]\n",
        "        )\n",
        "        print(f\"generated text:\\n{txt}\\n\")\n",
        "\n",
        "\n",
        "# Tokenize starting prompt\n",
        "word_to_index = {}\n",
        "for index, word in enumerate(vocab):\n",
        "    word_to_index[word] = index\n",
        "\n",
        "start_prompt = \"the product works fairly well\"\n",
        "start_tokens = [word_to_index.get(_, 1) for _ in start_prompt.split()]\n",
        "num_tokens_generated = 30\n",
        "text_gen_callback = TextGenerator(num_tokens_generated, start_tokens, vocab)"
      ],
      "id": "ce4f911b"
    },
    {
      "cell_type": "code",
      "execution_count": null,
      "metadata": {
        "id": "7d2vNzTGhEfn"
      },
      "outputs": [],
      "source": [
        "# import & instantialise \"ModelCheckpoint\" to save model at optimal los per training step\n",
        "from keras.callbacks import ModelCheckpoint\n",
        "filepath=\"drive/MyDrive/Collab Models/review_explication_model.hdf5\"\n",
        "checkpoint = ModelCheckpoint(filepath=filepath, monitor='val_loss', verbose=1, save_best_only=True, mode='auto')"
      ],
      "id": "7d2vNzTGhEfn"
    },
    {
      "cell_type": "code",
      "execution_count": null,
      "metadata": {
        "colab": {
          "background_save": true,
          "base_uri": "https://localhost:8080/"
        },
        "id": "bcc9e8d2",
        "outputId": "205dcf58-33c9-4727-f00a-fd006d3a5682"
      },
      "outputs": [
        {
          "name": "stdout",
          "output_type": "stream",
          "text": [
            "Epoch 1/30\n"
          ]
        }
      ],
      "source": [
        "# train model\n",
        "model = create_model()\n",
        "model.fit(train_ds, verbose=2, epochs=30, validation_data=val_ds,callbacks=[text_gen_callback,checkpoint])"
      ],
      "id": "bcc9e8d2"
    },
    {
      "cell_type": "code",
      "execution_count": null,
      "metadata": {
        "id": "7zJBjs24utP7"
      },
      "outputs": [],
      "source": [],
      "id": "7zJBjs24utP7"
    },
    {
      "cell_type": "code",
      "execution_count": null,
      "metadata": {
        "id": "RjQ_N7NUHXI5"
      },
      "outputs": [],
      "source": [],
      "id": "RjQ_N7NUHXI5"
    }
  ],
  "metadata": {
    "colab": {
      "provenance": []
    },
    "kernelspec": {
      "display_name": "Python 3 (ipykernel)",
      "language": "python",
      "name": "python3"
    },
    "language_info": {
      "codemirror_mode": {
        "name": "ipython",
        "version": 3
      },
      "file_extension": ".py",
      "mimetype": "text/x-python",
      "name": "python",
      "nbconvert_exporter": "python",
      "pygments_lexer": "ipython3",
      "version": "3.9.13"
    }
  },
  "nbformat": 4,
  "nbformat_minor": 5
}